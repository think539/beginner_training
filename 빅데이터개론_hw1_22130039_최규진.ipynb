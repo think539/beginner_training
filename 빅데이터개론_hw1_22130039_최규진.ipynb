{
  "nbformat": 4,
  "nbformat_minor": 0,
  "metadata": {
    "colab": {
      "name": "빅데이터개론_hw1_22130039_최규진.ipynb",
      "provenance": [],
      "collapsed_sections": []
    },
    "kernelspec": {
      "name": "python3",
      "display_name": "Python 3"
    },
    "language_info": {
      "name": "python"
    }
  },
  "cells": [
    {
      "cell_type": "markdown",
      "source": [
        "## 빅데이터개론_HW1_22130039_최규진"
      ],
      "metadata": {
        "id": "xKdjjePIH7jk"
      }
    },
    {
      "cell_type": "markdown",
      "source": [
        "## Variables"
      ],
      "metadata": {
        "id": "3Y7R1v6YJbPj"
      }
    },
    {
      "cell_type": "code",
      "source": [
        "a = 123 #변수 a에 인트값 123을 대입"
      ],
      "metadata": {
        "id": "tIXcjNFxIGs3"
      },
      "execution_count": 2,
      "outputs": []
    },
    {
      "cell_type": "code",
      "source": [
        "a"
      ],
      "metadata": {
        "colab": {
          "base_uri": "https://localhost:8080/"
        },
        "id": "eTIm2KZLIPbl",
        "outputId": "9ba72929-3a68-4b38-a563-ab9ba5d3a0ba"
      },
      "execution_count": 3,
      "outputs": [
        {
          "output_type": "execute_result",
          "data": {
            "text/plain": [
              "123"
            ]
          },
          "metadata": {},
          "execution_count": 3
        }
      ]
    },
    {
      "cell_type": "code",
      "source": [
        "A #A라는 변수는 없음"
      ],
      "metadata": {
        "colab": {
          "base_uri": "https://localhost:8080/",
          "height": 172
        },
        "id": "OCg3EPMxIQyx",
        "outputId": "186e13a0-5285-465b-dab6-451bec602c3d"
      },
      "execution_count": 4,
      "outputs": [
        {
          "output_type": "error",
          "ename": "NameError",
          "evalue": "ignored",
          "traceback": [
            "\u001b[0;31m---------------------------------------------------------------------------\u001b[0m",
            "\u001b[0;31mNameError\u001b[0m                                 Traceback (most recent call last)",
            "\u001b[0;32m<ipython-input-4-7d157d7c000a>\u001b[0m in \u001b[0;36m<module>\u001b[0;34m()\u001b[0m\n\u001b[0;32m----> 1\u001b[0;31m \u001b[0mA\u001b[0m\u001b[0;34m\u001b[0m\u001b[0;34m\u001b[0m\u001b[0m\n\u001b[0m",
            "\u001b[0;31mNameError\u001b[0m: name 'A' is not defined"
          ]
        }
      ]
    },
    {
      "cell_type": "code",
      "source": [
        "100_name = 100 #변수의 이름을 지정할 떄는 앞에 문자부터 시작"
      ],
      "metadata": {
        "colab": {
          "base_uri": "https://localhost:8080/",
          "height": 136
        },
        "id": "iKAW2SafISAd",
        "outputId": "33c3f240-8fe2-43a8-cbaf-f1c38562a40d"
      },
      "execution_count": 5,
      "outputs": [
        {
          "output_type": "error",
          "ename": "SyntaxError",
          "evalue": "ignored",
          "traceback": [
            "\u001b[0;36m  File \u001b[0;32m\"<ipython-input-5-a4340aa337e9>\"\u001b[0;36m, line \u001b[0;32m1\u001b[0m\n\u001b[0;31m    100_name = 100\u001b[0m\n\u001b[0m       ^\u001b[0m\n\u001b[0;31mSyntaxError\u001b[0m\u001b[0;31m:\u001b[0m invalid token\n"
          ]
        }
      ]
    },
    {
      "cell_type": "code",
      "source": [
        "False = 1 #변수를 지정할 때, 이미 파이썬 안에 내장된 문자는 사용 안 됨"
      ],
      "metadata": {
        "colab": {
          "base_uri": "https://localhost:8080/",
          "height": 136
        },
        "id": "wcm6sATmIYU_",
        "outputId": "3c3ba51e-30c8-42d1-940a-d60dc7be1c7c"
      },
      "execution_count": 6,
      "outputs": [
        {
          "output_type": "error",
          "ename": "SyntaxError",
          "evalue": "ignored",
          "traceback": [
            "\u001b[0;36m  File \u001b[0;32m\"<ipython-input-6-c89208c8937c>\"\u001b[0;36m, line \u001b[0;32m1\u001b[0m\n\u001b[0;31m    False = 1 #변수를 지정할 때, 이미 파이썬 안에 내장된 문자는 사용 안 됨\u001b[0m\n\u001b[0m                                                  ^\u001b[0m\n\u001b[0;31mSyntaxError\u001b[0m\u001b[0;31m:\u001b[0m can't assign to keyword\n"
          ]
        }
      ]
    },
    {
      "cell_type": "code",
      "source": [
        "a = 123\n",
        "b = 234\n",
        "print(a,id(a))\n",
        "print(b,id(b)) #id함수는 해당 변수의 메모리 주소를 출력하는 함수"
      ],
      "metadata": {
        "colab": {
          "base_uri": "https://localhost:8080/"
        },
        "id": "NDwyeO2YInm_",
        "outputId": "9d88f49e-8f15-426b-ff97-21d92779b62b"
      },
      "execution_count": 7,
      "outputs": [
        {
          "output_type": "stream",
          "name": "stdout",
          "text": [
            "123 93975448996160\n",
            "234 93975448999712\n"
          ]
        }
      ]
    },
    {
      "cell_type": "markdown",
      "source": [
        "## Type"
      ],
      "metadata": {
        "id": "uoe3MfbjJhQq"
      }
    },
    {
      "cell_type": "code",
      "source": [
        "type(123) #값 123은 인트 타입"
      ],
      "metadata": {
        "colab": {
          "base_uri": "https://localhost:8080/"
        },
        "id": "RNVv4fseI0uZ",
        "outputId": "f73f7965-7cde-45ef-8026-51882cc4b8f6"
      },
      "execution_count": 8,
      "outputs": [
        {
          "output_type": "execute_result",
          "data": {
            "text/plain": [
              "int"
            ]
          },
          "metadata": {},
          "execution_count": 8
        }
      ]
    },
    {
      "cell_type": "code",
      "source": [
        "type(123.45) #값 123.45는 float타입"
      ],
      "metadata": {
        "colab": {
          "base_uri": "https://localhost:8080/"
        },
        "id": "7LY09HcOI6hF",
        "outputId": "f09ae6cd-91e1-4b06-d736-ad52947d07dd"
      },
      "execution_count": 9,
      "outputs": [
        {
          "output_type": "execute_result",
          "data": {
            "text/plain": [
              "float"
            ]
          },
          "metadata": {},
          "execution_count": 9
        }
      ]
    },
    {
      "cell_type": "code",
      "source": [
        "type('OnwTwoThree') #'OnwTwoThree'는 문자열이므로 string타입"
      ],
      "metadata": {
        "colab": {
          "base_uri": "https://localhost:8080/"
        },
        "id": "fzT6wtG0I_Ke",
        "outputId": "31b7c51e-3302-489a-b07e-23933b96d58d"
      },
      "execution_count": 10,
      "outputs": [
        {
          "output_type": "execute_result",
          "data": {
            "text/plain": [
              "str"
            ]
          },
          "metadata": {},
          "execution_count": 10
        }
      ]
    },
    {
      "cell_type": "code",
      "source": [
        "123 == 123.0 #값은 같으므로 True가 출력"
      ],
      "metadata": {
        "colab": {
          "base_uri": "https://localhost:8080/"
        },
        "id": "3SFlTToDJLmI",
        "outputId": "63d0dc91-6da6-4b68-fa56-8f146e099481"
      },
      "execution_count": 11,
      "outputs": [
        {
          "output_type": "execute_result",
          "data": {
            "text/plain": [
              "True"
            ]
          },
          "metadata": {},
          "execution_count": 11
        }
      ]
    },
    {
      "cell_type": "code",
      "source": [
        "1 == 'One' #문자열과 숫자는 같지않으므로 False가 출력"
      ],
      "metadata": {
        "colab": {
          "base_uri": "https://localhost:8080/"
        },
        "id": "NyYj3hgCJQ-l",
        "outputId": "99778e7c-6105-45f0-c422-45441d363855"
      },
      "execution_count": 12,
      "outputs": [
        {
          "output_type": "execute_result",
          "data": {
            "text/plain": [
              "False"
            ]
          },
          "metadata": {},
          "execution_count": 12
        }
      ]
    },
    {
      "cell_type": "markdown",
      "source": [
        "## Integer Operations"
      ],
      "metadata": {
        "id": "BntgxVvUJlHo"
      }
    },
    {
      "cell_type": "code",
      "source": [
        "123*2"
      ],
      "metadata": {
        "colab": {
          "base_uri": "https://localhost:8080/"
        },
        "id": "l8jmO-eGJYIY",
        "outputId": "a4077434-bb86-492e-f01d-5e7fd74f8ea4"
      },
      "execution_count": 13,
      "outputs": [
        {
          "output_type": "execute_result",
          "data": {
            "text/plain": [
              "246"
            ]
          },
          "metadata": {},
          "execution_count": 13
        }
      ]
    },
    {
      "cell_type": "code",
      "source": [
        "a = 123\n",
        "a*2 #변수에 값을 대입하고 연산자를 써도 동일"
      ],
      "metadata": {
        "colab": {
          "base_uri": "https://localhost:8080/"
        },
        "id": "8HRzFVrdJrUr",
        "outputId": "0dad2604-5aa4-4f2f-b889-0fb4986f000b"
      },
      "execution_count": 14,
      "outputs": [
        {
          "output_type": "execute_result",
          "data": {
            "text/plain": [
              "246"
            ]
          },
          "metadata": {},
          "execution_count": 14
        }
      ]
    },
    {
      "cell_type": "code",
      "source": [
        "doublea = a*2\n",
        "print(doublea) \n",
        "type(doublea) #doublea는 정수이므로 int가 출력"
      ],
      "metadata": {
        "colab": {
          "base_uri": "https://localhost:8080/"
        },
        "id": "o_66zcMjJxLN",
        "outputId": "41029e32-1f12-4553-d6d4-f92bb384ee42"
      },
      "execution_count": 16,
      "outputs": [
        {
          "output_type": "stream",
          "name": "stdout",
          "text": [
            "246\n"
          ]
        },
        {
          "output_type": "execute_result",
          "data": {
            "text/plain": [
              "int"
            ]
          },
          "metadata": {},
          "execution_count": 16
        }
      ]
    },
    {
      "cell_type": "markdown",
      "source": [
        "## String Operation"
      ],
      "metadata": {
        "id": "bDEkmOLtKR1O"
      }
    },
    {
      "cell_type": "code",
      "source": [
        "print(onetwothree) #문자열을 출력하고 싶다면 ''를 붙여야한다."
      ],
      "metadata": {
        "colab": {
          "base_uri": "https://localhost:8080/",
          "height": 172
        },
        "id": "kyYdLBsxKMis",
        "outputId": "a7b3ed2d-59c9-4b93-b9e3-bb28fad00443"
      },
      "execution_count": 17,
      "outputs": [
        {
          "output_type": "error",
          "ename": "NameError",
          "evalue": "ignored",
          "traceback": [
            "\u001b[0;31m---------------------------------------------------------------------------\u001b[0m",
            "\u001b[0;31mNameError\u001b[0m                                 Traceback (most recent call last)",
            "\u001b[0;32m<ipython-input-17-cbbe9a276fc9>\u001b[0m in \u001b[0;36m<module>\u001b[0;34m()\u001b[0m\n\u001b[0;32m----> 1\u001b[0;31m \u001b[0mprint\u001b[0m\u001b[0;34m(\u001b[0m\u001b[0monetwothree\u001b[0m\u001b[0;34m)\u001b[0m \u001b[0;31m#문자열을 출력하고 싶다면 ''를 붙여야한다.\u001b[0m\u001b[0;34m\u001b[0m\u001b[0;34m\u001b[0m\u001b[0m\n\u001b[0m",
            "\u001b[0;31mNameError\u001b[0m: name 'onetwothree' is not defined"
          ]
        }
      ]
    },
    {
      "cell_type": "code",
      "source": [
        "print('onetwothree')"
      ],
      "metadata": {
        "colab": {
          "base_uri": "https://localhost:8080/"
        },
        "id": "0VN5XHAuKchD",
        "outputId": "3a854b53-e460-4736-95cb-c1c2c23d12df"
      },
      "execution_count": 18,
      "outputs": [
        {
          "output_type": "stream",
          "name": "stdout",
          "text": [
            "onetwothree\n"
          ]
        }
      ]
    },
    {
      "cell_type": "code",
      "source": [
        "print(\"onwtwothree\")"
      ],
      "metadata": {
        "colab": {
          "base_uri": "https://localhost:8080/"
        },
        "id": "orLuE7bOKfSL",
        "outputId": "b6d9a7d8-8deb-474e-b34e-177b39c1d39e"
      },
      "execution_count": 19,
      "outputs": [
        {
          "output_type": "stream",
          "name": "stdout",
          "text": [
            "onwtwothree\n"
          ]
        }
      ]
    },
    {
      "cell_type": "code",
      "source": [
        "print('\"onetwothree\"') #''안에 \"\"을 써도 무방 다만 \"\"을 문자로 보고 같이 출력"
      ],
      "metadata": {
        "colab": {
          "base_uri": "https://localhost:8080/"
        },
        "id": "FIEVc8loKhhD",
        "outputId": "5b690753-2af9-4441-b2fc-d3f9277ff60f"
      },
      "execution_count": 20,
      "outputs": [
        {
          "output_type": "stream",
          "name": "stdout",
          "text": [
            "\"onetwothree\"\n"
          ]
        }
      ]
    },
    {
      "cell_type": "code",
      "source": [
        "print(\"\"\"onetwothree\"\"\")"
      ],
      "metadata": {
        "colab": {
          "base_uri": "https://localhost:8080/"
        },
        "id": "BuTBmn_CKqyD",
        "outputId": "8a5caab9-c108-4490-940a-27bd8b8e466e"
      },
      "execution_count": 21,
      "outputs": [
        {
          "output_type": "stream",
          "name": "stdout",
          "text": [
            "onetwothree\n"
          ]
        }
      ]
    },
    {
      "cell_type": "code",
      "source": [
        "print('''onetwothree''') #\"\"\"나 '''을 써도 안의 문자를 문자열로 생각하여 출력"
      ],
      "metadata": {
        "colab": {
          "base_uri": "https://localhost:8080/"
        },
        "id": "BIfcfQZ7KvYm",
        "outputId": "8b5ed32c-a31f-43d6-a3af-3c8c38040169"
      },
      "execution_count": 22,
      "outputs": [
        {
          "output_type": "stream",
          "name": "stdout",
          "text": [
            "onetwothree\n"
          ]
        }
      ]
    },
    {
      "cell_type": "code",
      "source": [
        "print(\"Handong is God's University\")"
      ],
      "metadata": {
        "colab": {
          "base_uri": "https://localhost:8080/"
        },
        "id": "DO7JJCW4K4P-",
        "outputId": "370a9904-a9a1-4d36-99cb-a101e3524900"
      },
      "execution_count": 23,
      "outputs": [
        {
          "output_type": "stream",
          "name": "stdout",
          "text": [
            "Handong is God's University\n"
          ]
        }
      ]
    },
    {
      "cell_type": "code",
      "source": [
        "print('andong is God's University') #여기서 문자열은 Handong is God뿐이다."
      ],
      "metadata": {
        "colab": {
          "base_uri": "https://localhost:8080/",
          "height": 136
        },
        "id": "KJGUJ-lEK-OK",
        "outputId": "c51b45f0-1fb1-4b79-d2d7-1e4ef44b9617"
      },
      "execution_count": 24,
      "outputs": [
        {
          "output_type": "error",
          "ename": "SyntaxError",
          "evalue": "ignored",
          "traceback": [
            "\u001b[0;36m  File \u001b[0;32m\"<ipython-input-24-e8834742519d>\"\u001b[0;36m, line \u001b[0;32m1\u001b[0m\n\u001b[0;31m    print('andong is God's University') #여기서 문자열은 Handong is God뿐이다.\u001b[0m\n\u001b[0m                         ^\u001b[0m\n\u001b[0;31mSyntaxError\u001b[0m\u001b[0;31m:\u001b[0m invalid syntax\n"
          ]
        }
      ]
    },
    {
      "cell_type": "code",
      "source": [
        "print('Handong is God\\'s University') #\\'를 통해서 '를 문자로 취급"
      ],
      "metadata": {
        "colab": {
          "base_uri": "https://localhost:8080/"
        },
        "id": "MdzrMRNBLKRx",
        "outputId": "1fe371b2-3e07-4da0-ea60-96df4608e043"
      },
      "execution_count": 25,
      "outputs": [
        {
          "output_type": "stream",
          "name": "stdout",
          "text": [
            "Handong is God's University\n"
          ]
        }
      ]
    },
    {
      "cell_type": "code",
      "source": [
        "'Big' + 'Data' #문자열도 연산자 사용가능"
      ],
      "metadata": {
        "colab": {
          "base_uri": "https://localhost:8080/",
          "height": 35
        },
        "id": "BqHqhd1SLU7f",
        "outputId": "2c593fff-ef0c-4ea5-b8f4-e9409401cb29"
      },
      "execution_count": 26,
      "outputs": [
        {
          "output_type": "execute_result",
          "data": {
            "application/vnd.google.colaboratory.intrinsic+json": {
              "type": "string"
            },
            "text/plain": [
              "'BigData'"
            ]
          },
          "metadata": {},
          "execution_count": 26
        }
      ]
    },
    {
      "cell_type": "code",
      "source": [
        "var1 = 'Welcome to'\n",
        "var2 = 'Big Data Camp'\n",
        "print(var1 + var2)"
      ],
      "metadata": {
        "colab": {
          "base_uri": "https://localhost:8080/"
        },
        "id": "rb_Y0ETnLfGZ",
        "outputId": "efff0d3d-d1c3-4662-fff7-a4de21d5ea52"
      },
      "execution_count": 1,
      "outputs": [
        {
          "output_type": "stream",
          "name": "stdout",
          "text": [
            "Welcome toBig Data Camp\n"
          ]
        }
      ]
    },
    {
      "cell_type": "code",
      "source": [
        "print(var1, var2) #print안에 ,를 넣으면 두 문자열을 띄어서 출력"
      ],
      "metadata": {
        "colab": {
          "base_uri": "https://localhost:8080/"
        },
        "id": "2_HkQSANMxIR",
        "outputId": "edbd16ca-6616-4027-fa1f-dc4ccb614b58"
      },
      "execution_count": 2,
      "outputs": [
        {
          "output_type": "stream",
          "name": "stdout",
          "text": [
            "Welcome to Big Data Camp\n"
          ]
        }
      ]
    },
    {
      "cell_type": "code",
      "source": [
        "len('BigData') #문자열의 문자개수를 출력"
      ],
      "metadata": {
        "colab": {
          "base_uri": "https://localhost:8080/"
        },
        "id": "AplPbB7SNCp9",
        "outputId": "bb16cd34-9135-4af9-d3f6-124b5018d014"
      },
      "execution_count": 3,
      "outputs": [
        {
          "output_type": "execute_result",
          "data": {
            "text/plain": [
              "7"
            ]
          },
          "metadata": {},
          "execution_count": 3
        }
      ]
    },
    {
      "cell_type": "markdown",
      "source": [
        "## String Indexing"
      ],
      "metadata": {
        "id": "X2sdzo4SNJAn"
      }
    },
    {
      "cell_type": "code",
      "source": [
        "msg = 'God is good'"
      ],
      "metadata": {
        "id": "v3Se4NBvNHrA"
      },
      "execution_count": 4,
      "outputs": []
    },
    {
      "cell_type": "code",
      "source": [
        "print(msg)"
      ],
      "metadata": {
        "colab": {
          "base_uri": "https://localhost:8080/"
        },
        "id": "TuOrWBOJNPuv",
        "outputId": "74ab7a46-3aff-4d19-cbdc-1391156f4c69"
      },
      "execution_count": 5,
      "outputs": [
        {
          "output_type": "stream",
          "name": "stdout",
          "text": [
            "God is good\n"
          ]
        }
      ]
    },
    {
      "cell_type": "code",
      "source": [
        "print(msg[0]) #문자열의 0번째 인덱스에 위치한 문자을 출력"
      ],
      "metadata": {
        "colab": {
          "base_uri": "https://localhost:8080/"
        },
        "id": "oV2n7g9bNRJu",
        "outputId": "b7a465d7-1841-4313-d991-cb6696ae17e3"
      },
      "execution_count": 6,
      "outputs": [
        {
          "output_type": "stream",
          "name": "stdout",
          "text": [
            "G\n"
          ]
        }
      ]
    },
    {
      "cell_type": "code",
      "source": [
        "print(msg[3]) #문자열의 3번째 인덱스에 위차한 문자를 출력"
      ],
      "metadata": {
        "colab": {
          "base_uri": "https://localhost:8080/"
        },
        "id": "zeoh8OhTNYb6",
        "outputId": "c62da10b-1c22-4cf8-ecc7-d4349e66a8ed"
      },
      "execution_count": 7,
      "outputs": [
        {
          "output_type": "stream",
          "name": "stdout",
          "text": [
            " \n"
          ]
        }
      ]
    },
    {
      "cell_type": "code",
      "source": [
        "print(msg[-1]) #문자열의 -1인덱스에 위치한 문자를 출력 -의 경우 맨 뒤에서 부터 시작"
      ],
      "metadata": {
        "colab": {
          "base_uri": "https://localhost:8080/"
        },
        "id": "3Q6aHWpINfic",
        "outputId": "79cf42b0-925e-4113-b4c9-fe13eab51f3b"
      },
      "execution_count": 8,
      "outputs": [
        {
          "output_type": "stream",
          "name": "stdout",
          "text": [
            "d\n"
          ]
        }
      ]
    },
    {
      "cell_type": "code",
      "source": [
        "print(msg[0] + msg[1] + msg[2]) #인덱싱한 문자도 문자열에 속하므로 연산자 사용가능"
      ],
      "metadata": {
        "colab": {
          "base_uri": "https://localhost:8080/"
        },
        "id": "yuj-UjzkNtfb",
        "outputId": "0ce033e1-9e21-4a82-ac7b-e7e29800fdf8"
      },
      "execution_count": 9,
      "outputs": [
        {
          "output_type": "stream",
          "name": "stdout",
          "text": [
            "God\n"
          ]
        }
      ]
    },
    {
      "cell_type": "markdown",
      "source": [
        "## Converting data type"
      ],
      "metadata": {
        "id": "n2MJvCn9N6Bt"
      }
    },
    {
      "cell_type": "code",
      "source": [
        "varint = 123\n",
        "varfloat = 123.0\n",
        "varstring = '123'"
      ],
      "metadata": {
        "id": "96UK6kCCN4YV"
      },
      "execution_count": 10,
      "outputs": []
    },
    {
      "cell_type": "code",
      "source": [
        "int(varfloat) #int()는 해당 변수에 값을 정수값으로 바꾸어 준다."
      ],
      "metadata": {
        "colab": {
          "base_uri": "https://localhost:8080/"
        },
        "id": "RB02IlD2OFBC",
        "outputId": "f7d670a3-0e84-4f59-b85e-2bfcd55b9473"
      },
      "execution_count": 11,
      "outputs": [
        {
          "output_type": "execute_result",
          "data": {
            "text/plain": [
              "123"
            ]
          },
          "metadata": {},
          "execution_count": 11
        }
      ]
    },
    {
      "cell_type": "code",
      "source": [
        "int(varstring) #해단 변수의 값을 정수로 바꾸어 준다"
      ],
      "metadata": {
        "colab": {
          "base_uri": "https://localhost:8080/"
        },
        "id": "kbEp9Xq3OMyC",
        "outputId": "50c53786-9f25-404e-abad-f158b1b5c4e4"
      },
      "execution_count": 12,
      "outputs": [
        {
          "output_type": "execute_result",
          "data": {
            "text/plain": [
              "123"
            ]
          },
          "metadata": {},
          "execution_count": 12
        }
      ]
    },
    {
      "cell_type": "code",
      "source": [
        "float(varint) #float()는 해당 변수의 값을 실수로 바꾸어준다"
      ],
      "metadata": {
        "colab": {
          "base_uri": "https://localhost:8080/"
        },
        "id": "RV3ie1cLOWvi",
        "outputId": "347d4d41-0fce-4c46-d4f2-5725935ed209"
      },
      "execution_count": 13,
      "outputs": [
        {
          "output_type": "execute_result",
          "data": {
            "text/plain": [
              "123.0"
            ]
          },
          "metadata": {},
          "execution_count": 13
        }
      ]
    },
    {
      "cell_type": "code",
      "source": [
        "float(varstring) #해당 변수의 값을 실수로 바꾸어준다"
      ],
      "metadata": {
        "colab": {
          "base_uri": "https://localhost:8080/"
        },
        "id": "B4gXrwKSOdVG",
        "outputId": "bde2ed33-9af7-4246-96b9-0bfbcbc25b8e"
      },
      "execution_count": 14,
      "outputs": [
        {
          "output_type": "execute_result",
          "data": {
            "text/plain": [
              "123.0"
            ]
          },
          "metadata": {},
          "execution_count": 14
        }
      ]
    },
    {
      "cell_type": "code",
      "source": [
        "str(varfloat) #str()는 해당 변수의 값을 문자열로 바꾸어 준다."
      ],
      "metadata": {
        "colab": {
          "base_uri": "https://localhost:8080/",
          "height": 35
        },
        "id": "8Sfye9LCOjiB",
        "outputId": "f9567367-0f3b-4ca4-f1c4-90f291a490e3"
      },
      "execution_count": 15,
      "outputs": [
        {
          "output_type": "execute_result",
          "data": {
            "application/vnd.google.colaboratory.intrinsic+json": {
              "type": "string"
            },
            "text/plain": [
              "'123.0'"
            ]
          },
          "metadata": {},
          "execution_count": 15
        }
      ]
    },
    {
      "cell_type": "markdown",
      "source": [
        "## Comments"
      ],
      "metadata": {
        "id": "79mfJRzdOsSi"
      }
    },
    {
      "cell_type": "code",
      "source": [
        "#BigData = 1\n",
        "BigData #해당 변수지정은 #으로 주석처리가 되어있어 반영되지 않아 해당 변수를 출력해도 오류가 발생"
      ],
      "metadata": {
        "colab": {
          "base_uri": "https://localhost:8080/",
          "height": 190
        },
        "id": "cuq8QCunOqoE",
        "outputId": "f2564a71-af1c-49dd-b364-bd33f6079139"
      },
      "execution_count": 16,
      "outputs": [
        {
          "output_type": "error",
          "ename": "NameError",
          "evalue": "ignored",
          "traceback": [
            "\u001b[0;31m---------------------------------------------------------------------------\u001b[0m",
            "\u001b[0;31mNameError\u001b[0m                                 Traceback (most recent call last)",
            "\u001b[0;32m<ipython-input-16-1ce21c2c99bc>\u001b[0m in \u001b[0;36m<module>\u001b[0;34m()\u001b[0m\n\u001b[1;32m      1\u001b[0m \u001b[0;31m#BigData = 1\u001b[0m\u001b[0;34m\u001b[0m\u001b[0;34m\u001b[0m\u001b[0;34m\u001b[0m\u001b[0m\n\u001b[0;32m----> 2\u001b[0;31m \u001b[0mBigData\u001b[0m \u001b[0;31m#해당 변수지정은 #으로 주석처리가 되어있어 반영되지 않아 해당 변수를 출력해도 오류가 발생\u001b[0m\u001b[0;34m\u001b[0m\u001b[0;34m\u001b[0m\u001b[0m\n\u001b[0m",
            "\u001b[0;31mNameError\u001b[0m: name 'BigData' is not defined"
          ]
        }
      ]
    },
    {
      "cell_type": "code",
      "source": [
        "'''BigData = 1'''\n",
        "BigData #위와 마찬가지로 주석처리가 되어있어 해당 변수는 없는 존재 따라서 출력시 오류"
      ],
      "metadata": {
        "colab": {
          "base_uri": "https://localhost:8080/",
          "height": 190
        },
        "id": "vjal0XpLO8Sd",
        "outputId": "a65caa1c-f91a-44bc-b37b-42ddee79ebc4"
      },
      "execution_count": 17,
      "outputs": [
        {
          "output_type": "error",
          "ename": "NameError",
          "evalue": "ignored",
          "traceback": [
            "\u001b[0;31m---------------------------------------------------------------------------\u001b[0m",
            "\u001b[0;31mNameError\u001b[0m                                 Traceback (most recent call last)",
            "\u001b[0;32m<ipython-input-17-2ceaff914575>\u001b[0m in \u001b[0;36m<module>\u001b[0;34m()\u001b[0m\n\u001b[1;32m      1\u001b[0m \u001b[0;34m'''BigData = 1'''\u001b[0m\u001b[0;34m\u001b[0m\u001b[0;34m\u001b[0m\u001b[0m\n\u001b[0;32m----> 2\u001b[0;31m \u001b[0mBigData\u001b[0m \u001b[0;31m#위와 마찬가지로 주석처리가 되어있어 해당 변수는 없는 존재 따라서 출력시 오류\u001b[0m\u001b[0;34m\u001b[0m\u001b[0;34m\u001b[0m\u001b[0m\n\u001b[0m",
            "\u001b[0;31mNameError\u001b[0m: name 'BigData' is not defined"
          ]
        }
      ]
    },
    {
      "cell_type": "code",
      "source": [
        "############################\n",
        "#### Pthyon Programming ####\n",
        "# Written by Kim # 21/07/16  \n",
        "#전부 주석처리"
      ],
      "metadata": {
        "id": "XNyFAuXfPIe7"
      },
      "execution_count": 18,
      "outputs": []
    },
    {
      "cell_type": "markdown",
      "source": [
        "## Operations"
      ],
      "metadata": {
        "id": "8qfJoAciPf_9"
      }
    },
    {
      "cell_type": "markdown",
      "source": [
        "## Arithmetic operators"
      ],
      "metadata": {
        "id": "1LAQK_R3PizC"
      }
    },
    {
      "cell_type": "code",
      "source": [
        "1 + 1 #더하기 연산자"
      ],
      "metadata": {
        "colab": {
          "base_uri": "https://localhost:8080/"
        },
        "id": "Npxgmfl2Pp97",
        "outputId": "0ad818d9-e18b-447d-f8d4-97d71f469fe5"
      },
      "execution_count": 19,
      "outputs": [
        {
          "output_type": "execute_result",
          "data": {
            "text/plain": [
              "2"
            ]
          },
          "metadata": {},
          "execution_count": 19
        }
      ]
    },
    {
      "cell_type": "code",
      "source": [
        "1 - 1 #빼기 연산자"
      ],
      "metadata": {
        "colab": {
          "base_uri": "https://localhost:8080/"
        },
        "id": "KsvrEvQqPtjv",
        "outputId": "34d0ce26-f7d5-4084-9b34-306f60f9e764"
      },
      "execution_count": 20,
      "outputs": [
        {
          "output_type": "execute_result",
          "data": {
            "text/plain": [
              "0"
            ]
          },
          "metadata": {},
          "execution_count": 20
        }
      ]
    },
    {
      "cell_type": "code",
      "source": [
        "2 * 2 #곱하기 연산자"
      ],
      "metadata": {
        "colab": {
          "base_uri": "https://localhost:8080/"
        },
        "id": "Trz2kyc8Pv3f",
        "outputId": "6e82ca9d-d490-48f7-8190-c24d49b7e280"
      },
      "execution_count": 21,
      "outputs": [
        {
          "output_type": "execute_result",
          "data": {
            "text/plain": [
              "4"
            ]
          },
          "metadata": {},
          "execution_count": 21
        }
      ]
    },
    {
      "cell_type": "code",
      "source": [
        "2 ** 3 #지수 연산자"
      ],
      "metadata": {
        "colab": {
          "base_uri": "https://localhost:8080/"
        },
        "id": "q-ZtYOXXPxmI",
        "outputId": "950b34e2-1f3f-4a66-e244-2c464c1dba45"
      },
      "execution_count": 22,
      "outputs": [
        {
          "output_type": "execute_result",
          "data": {
            "text/plain": [
              "8"
            ]
          },
          "metadata": {},
          "execution_count": 22
        }
      ]
    },
    {
      "cell_type": "code",
      "source": [
        "10 / 2 #나누기 연산자"
      ],
      "metadata": {
        "colab": {
          "base_uri": "https://localhost:8080/"
        },
        "id": "w6HOhi6MPzZD",
        "outputId": "c923f908-973e-40d1-c548-e1088abf85e9"
      },
      "execution_count": 23,
      "outputs": [
        {
          "output_type": "execute_result",
          "data": {
            "text/plain": [
              "5.0"
            ]
          },
          "metadata": {},
          "execution_count": 23
        }
      ]
    },
    {
      "cell_type": "code",
      "source": [
        "10//2 # 몫 연산자"
      ],
      "metadata": {
        "colab": {
          "base_uri": "https://localhost:8080/"
        },
        "id": "IcumiLXTP1gV",
        "outputId": "8d004002-3a7c-4d7f-d481-6f485aba4388"
      },
      "execution_count": 24,
      "outputs": [
        {
          "output_type": "execute_result",
          "data": {
            "text/plain": [
              "5"
            ]
          },
          "metadata": {},
          "execution_count": 24
        }
      ]
    },
    {
      "cell_type": "code",
      "source": [
        "10 % 2  #나머지 연산자"
      ],
      "metadata": {
        "colab": {
          "base_uri": "https://localhost:8080/"
        },
        "id": "wU1z_QSvP30_",
        "outputId": "1936fbcb-7f00-45e2-f4c4-94cedc5496c2"
      },
      "execution_count": 25,
      "outputs": [
        {
          "output_type": "execute_result",
          "data": {
            "text/plain": [
              "0"
            ]
          },
          "metadata": {},
          "execution_count": 25
        }
      ]
    },
    {
      "cell_type": "code",
      "source": [
        "varA = 100\n",
        "varA+=1 #+=는 해당 변수값에 1을 더한것을 해당변수에 다시 대입(업데이트)\n",
        "varA"
      ],
      "metadata": {
        "colab": {
          "base_uri": "https://localhost:8080/"
        },
        "id": "ckw7Hh1yP63S",
        "outputId": "c8e7517f-8467-4dd5-e8e3-61f23b1372d9"
      },
      "execution_count": 26,
      "outputs": [
        {
          "output_type": "execute_result",
          "data": {
            "text/plain": [
              "101"
            ]
          },
          "metadata": {},
          "execution_count": 26
        }
      ]
    },
    {
      "cell_type": "code",
      "source": [
        "varA = 10\n",
        "varA = varA + 1 \n",
        "varA #해당 문장은 위의 문장을 풀어 쓴 것이다"
      ],
      "metadata": {
        "colab": {
          "base_uri": "https://localhost:8080/"
        },
        "id": "9cbxWO4rQKef",
        "outputId": "bff8b67f-3258-4484-90fd-7020e36f55d6"
      },
      "execution_count": 27,
      "outputs": [
        {
          "output_type": "execute_result",
          "data": {
            "text/plain": [
              "11"
            ]
          },
          "metadata": {},
          "execution_count": 27
        }
      ]
    },
    {
      "cell_type": "code",
      "source": [
        "varA = 10\n",
        "varA-=1\n",
        "varA #-=는 해당 문자에 1을 뺀뒤 다시 변수에 저장(업데이트)"
      ],
      "metadata": {
        "colab": {
          "base_uri": "https://localhost:8080/"
        },
        "id": "QdE7gp3YQYjK",
        "outputId": "6273f81c-b727-4a24-dece-c6a7c4aac00d"
      },
      "execution_count": 29,
      "outputs": [
        {
          "output_type": "execute_result",
          "data": {
            "text/plain": [
              "9"
            ]
          },
          "metadata": {},
          "execution_count": 29
        }
      ]
    },
    {
      "cell_type": "code",
      "source": [
        "varA = 10\n",
        "varA = varA - 1\n",
        "varA #위의 문장을 풀어쓴 것이다"
      ],
      "metadata": {
        "colab": {
          "base_uri": "https://localhost:8080/"
        },
        "id": "zIdGp7TlQlXf",
        "outputId": "163824d7-5b2d-40bc-8533-d87b9e9f5294"
      },
      "execution_count": 30,
      "outputs": [
        {
          "output_type": "execute_result",
          "data": {
            "text/plain": [
              "9"
            ]
          },
          "metadata": {},
          "execution_count": 30
        }
      ]
    },
    {
      "cell_type": "markdown",
      "source": [
        "## Relational operators"
      ],
      "metadata": {
        "id": "bUIsLax9Q2iq"
      }
    },
    {
      "cell_type": "code",
      "source": [
        "1<2 # <연산자를 통해 True(참) or False(거짓)값을 출력 가능 "
      ],
      "metadata": {
        "colab": {
          "base_uri": "https://localhost:8080/"
        },
        "id": "dktMLyRnQ1hk",
        "outputId": "4ccf95de-f924-4327-8b6f-fa5915e0be46"
      },
      "execution_count": 31,
      "outputs": [
        {
          "output_type": "execute_result",
          "data": {
            "text/plain": [
              "True"
            ]
          },
          "metadata": {},
          "execution_count": 31
        }
      ]
    },
    {
      "cell_type": "code",
      "source": [
        "1>2 # >연산자를 통해 True(참) or False(거짓)값을 출력 가능 "
      ],
      "metadata": {
        "colab": {
          "base_uri": "https://localhost:8080/"
        },
        "id": "fK-XesqzRLLO",
        "outputId": "27a65206-8708-4c56-ad43-a9e8a02fd9e0"
      },
      "execution_count": 32,
      "outputs": [
        {
          "output_type": "execute_result",
          "data": {
            "text/plain": [
              "False"
            ]
          },
          "metadata": {},
          "execution_count": 32
        }
      ]
    },
    {
      "cell_type": "code",
      "source": [
        "1<=2 # <=연산자를 통해 True(참) or False(거짓)값을 출력 가능 "
      ],
      "metadata": {
        "colab": {
          "base_uri": "https://localhost:8080/"
        },
        "id": "JWK3L1RORORl",
        "outputId": "d6e8573e-4f4a-4d02-a20c-de67db398553"
      },
      "execution_count": 33,
      "outputs": [
        {
          "output_type": "execute_result",
          "data": {
            "text/plain": [
              "True"
            ]
          },
          "metadata": {},
          "execution_count": 33
        }
      ]
    },
    {
      "cell_type": "code",
      "source": [
        "1>=2 # >=연산자를 통해 True(참) or False(거짓)값을 출력 가능 "
      ],
      "metadata": {
        "colab": {
          "base_uri": "https://localhost:8080/"
        },
        "id": "V4yJQBY9RU1_",
        "outputId": "989762d0-b7e9-4843-9605-7deabc16ef9d"
      },
      "execution_count": 34,
      "outputs": [
        {
          "output_type": "execute_result",
          "data": {
            "text/plain": [
              "False"
            ]
          },
          "metadata": {},
          "execution_count": 34
        }
      ]
    },
    {
      "cell_type": "code",
      "source": [
        "1 == 2 # ==연산자를 통해 True(참) or False(거짓)값을 출력 가능 "
      ],
      "metadata": {
        "colab": {
          "base_uri": "https://localhost:8080/"
        },
        "id": "rspEmUdBRXl9",
        "outputId": "4b2edd32-d6ee-4360-d402-cb5dc6980635"
      },
      "execution_count": 35,
      "outputs": [
        {
          "output_type": "execute_result",
          "data": {
            "text/plain": [
              "False"
            ]
          },
          "metadata": {},
          "execution_count": 35
        }
      ]
    },
    {
      "cell_type": "code",
      "source": [
        "1 != 2 # !=연산자를 통해 True(참) or False(거짓)값을 출력 가능 "
      ],
      "metadata": {
        "colab": {
          "base_uri": "https://localhost:8080/"
        },
        "id": "cRLq3QBFRZ90",
        "outputId": "9a085f67-e04b-4a22-ded3-9a37d4e0dbe5"
      },
      "execution_count": 36,
      "outputs": [
        {
          "output_type": "execute_result",
          "data": {
            "text/plain": [
              "True"
            ]
          },
          "metadata": {},
          "execution_count": 36
        }
      ]
    },
    {
      "cell_type": "code",
      "source": [
        "weight = 100\n",
        "height = 1.83\n",
        "bmi = weight / (height * height)\n",
        "print(\"My weight is\", weight, \"Kg, and height is\", height, \"m.\")"
      ],
      "metadata": {
        "colab": {
          "base_uri": "https://localhost:8080/"
        },
        "id": "8GiJV_5VRcfp",
        "outputId": "8c6255cb-d721-4992-d81e-9f8a935c0c58"
      },
      "execution_count": 37,
      "outputs": [
        {
          "output_type": "stream",
          "name": "stdout",
          "text": [
            "My weight is 100 Kg, and height is 1.83 m.\n"
          ]
        }
      ]
    },
    {
      "cell_type": "code",
      "source": [
        "if( bmi>25 ):\n",
        "  print(\"overweighted.\")\n",
        "#if문의 경우 ()안의 조건이 충족될 경우 아래의 내용이 실행"
      ],
      "metadata": {
        "colab": {
          "base_uri": "https://localhost:8080/"
        },
        "id": "2sQlWOMUR0Hs",
        "outputId": "e2fb3951-89ad-4022-cb2c-e72d817a9008"
      },
      "execution_count": 38,
      "outputs": [
        {
          "output_type": "stream",
          "name": "stdout",
          "text": [
            "overweighted.\n"
          ]
        }
      ]
    },
    {
      "cell_type": "markdown",
      "source": [
        "## Logical operators"
      ],
      "metadata": {
        "id": "knWtVmq9TQpr"
      }
    },
    {
      "cell_type": "code",
      "source": [
        "(1<2) and (2<3) #and 연산자의 경우 둘다 참일때만 참을 출력"
      ],
      "metadata": {
        "colab": {
          "base_uri": "https://localhost:8080/"
        },
        "id": "XqKfqZrCTPA8",
        "outputId": "6a682157-456d-44d6-8434-221bd2e5deeb"
      },
      "execution_count": 39,
      "outputs": [
        {
          "output_type": "execute_result",
          "data": {
            "text/plain": [
              "True"
            ]
          },
          "metadata": {},
          "execution_count": 39
        }
      ]
    },
    {
      "cell_type": "code",
      "source": [
        "(1==2) and (2<3)"
      ],
      "metadata": {
        "colab": {
          "base_uri": "https://localhost:8080/"
        },
        "id": "fDqvbGN0Td35",
        "outputId": "3d73b03d-63cd-4a69-ca94-e8d8cc9a9487"
      },
      "execution_count": 40,
      "outputs": [
        {
          "output_type": "execute_result",
          "data": {
            "text/plain": [
              "False"
            ]
          },
          "metadata": {},
          "execution_count": 40
        }
      ]
    },
    {
      "cell_type": "code",
      "source": [
        "(1<2) or (2<3) #or 연산자의 경우 둘다 거짓일때만 거짓"
      ],
      "metadata": {
        "colab": {
          "base_uri": "https://localhost:8080/"
        },
        "id": "dW_BW_cGThDW",
        "outputId": "747abf3c-54a8-4266-9aed-6f784e8df6c7"
      },
      "execution_count": 41,
      "outputs": [
        {
          "output_type": "execute_result",
          "data": {
            "text/plain": [
              "True"
            ]
          },
          "metadata": {},
          "execution_count": 41
        }
      ]
    },
    {
      "cell_type": "code",
      "source": [
        "(1==2) or (2<3)"
      ],
      "metadata": {
        "colab": {
          "base_uri": "https://localhost:8080/"
        },
        "id": "PRoigJ4-TogH",
        "outputId": "ebb9f21b-8d89-4ee1-b147-2c2ceddcfc38"
      },
      "execution_count": 42,
      "outputs": [
        {
          "output_type": "execute_result",
          "data": {
            "text/plain": [
              "True"
            ]
          },
          "metadata": {},
          "execution_count": 42
        }
      ]
    },
    {
      "cell_type": "code",
      "source": [
        "1<2"
      ],
      "metadata": {
        "colab": {
          "base_uri": "https://localhost:8080/"
        },
        "id": "gf3S90NrTrtu",
        "outputId": "5a52ff9f-6c1d-4759-dd59-d05e275b0bdb"
      },
      "execution_count": 43,
      "outputs": [
        {
          "output_type": "execute_result",
          "data": {
            "text/plain": [
              "True"
            ]
          },
          "metadata": {},
          "execution_count": 43
        }
      ]
    },
    {
      "cell_type": "code",
      "source": [
        "not(1<2) #not의 경우 ()안의 불린값을 반대로 출력"
      ],
      "metadata": {
        "colab": {
          "base_uri": "https://localhost:8080/"
        },
        "id": "2fP-tRALTsxx",
        "outputId": "3e2b734b-aae1-4959-ddb1-2302bd7e9f27"
      },
      "execution_count": 44,
      "outputs": [
        {
          "output_type": "execute_result",
          "data": {
            "text/plain": [
              "False"
            ]
          },
          "metadata": {},
          "execution_count": 44
        }
      ]
    },
    {
      "cell_type": "markdown",
      "source": [
        "## Function"
      ],
      "metadata": {
        "id": "OZi9nuqRT1w9"
      }
    },
    {
      "cell_type": "markdown",
      "source": [
        "## Definding a function"
      ],
      "metadata": {
        "id": "oxc7d0dyeJPe"
      }
    },
    {
      "cell_type": "code",
      "source": [
        "def plus(num1, num2):\n",
        "  return num1+num2\n",
        "#def로 함수를 생성"
      ],
      "metadata": {
        "id": "tPYJUDO_T0hO"
      },
      "execution_count": 45,
      "outputs": []
    },
    {
      "cell_type": "code",
      "source": [
        "type(plus) #해당 함수의 타입은 function"
      ],
      "metadata": {
        "colab": {
          "base_uri": "https://localhost:8080/"
        },
        "id": "i-55dwAoeREB",
        "outputId": "de30137a-37f3-4a99-ae5b-90310258b34c"
      },
      "execution_count": 46,
      "outputs": [
        {
          "output_type": "execute_result",
          "data": {
            "text/plain": [
              "function"
            ]
          },
          "metadata": {},
          "execution_count": 46
        }
      ]
    },
    {
      "cell_type": "code",
      "source": [
        "plus(2,12) #parameter와 argument의 개수가 같아야 실행 가능"
      ],
      "metadata": {
        "colab": {
          "base_uri": "https://localhost:8080/"
        },
        "id": "aBOnguESlZuB",
        "outputId": "625c0665-e7b6-4c1f-ae67-d74726391da2"
      },
      "execution_count": 47,
      "outputs": [
        {
          "output_type": "execute_result",
          "data": {
            "text/plain": [
              "14"
            ]
          },
          "metadata": {},
          "execution_count": 47
        }
      ]
    },
    {
      "cell_type": "code",
      "source": [
        "result_plus = plus(2,12)\n",
        "result_plus\n",
        "#함수의 마지막에 return이 있어서 함수의 값을 다른 변수에 넣을 수 있다."
      ],
      "metadata": {
        "colab": {
          "base_uri": "https://localhost:8080/"
        },
        "id": "mnO4xCn8llNt",
        "outputId": "2d171470-6dba-4f7a-fa5c-18270820edb6"
      },
      "execution_count": 48,
      "outputs": [
        {
          "output_type": "execute_result",
          "data": {
            "text/plain": [
              "14"
            ]
          },
          "metadata": {},
          "execution_count": 48
        }
      ]
    },
    {
      "cell_type": "code",
      "source": [
        "def mul(num1,num2):\n",
        "  return num1 * num2"
      ],
      "metadata": {
        "id": "XLbvu4CqlwE7"
      },
      "execution_count": 49,
      "outputs": []
    },
    {
      "cell_type": "code",
      "source": [
        "mul(2,12)"
      ],
      "metadata": {
        "colab": {
          "base_uri": "https://localhost:8080/"
        },
        "id": "szc1NmH9l1tP",
        "outputId": "142a985d-98a0-40df-8ed3-33e65c3f4715"
      },
      "execution_count": 50,
      "outputs": [
        {
          "output_type": "execute_result",
          "data": {
            "text/plain": [
              "24"
            ]
          },
          "metadata": {},
          "execution_count": 50
        }
      ]
    },
    {
      "cell_type": "code",
      "source": [
        "result_mul = mul(2,12)\n",
        "result_mul"
      ],
      "metadata": {
        "colab": {
          "base_uri": "https://localhost:8080/"
        },
        "id": "f7P1nKaZl3oJ",
        "outputId": "3d7c3122-2708-4ff3-ee87-42f489a894e2"
      },
      "execution_count": 51,
      "outputs": [
        {
          "output_type": "execute_result",
          "data": {
            "text/plain": [
              "24"
            ]
          },
          "metadata": {},
          "execution_count": 51
        }
      ]
    },
    {
      "cell_type": "markdown",
      "source": [
        "## Class"
      ],
      "metadata": {
        "id": "hNlPF28il9bf"
      }
    },
    {
      "cell_type": "markdown",
      "source": [
        "## Definding a class"
      ],
      "metadata": {
        "id": "tBFc9l-Tl_r3"
      }
    },
    {
      "cell_type": "code",
      "source": [
        "class Calcul:\n",
        "  def __init__(self, frist, second):\n",
        "    self.num1 = frist\n",
        "    self.num2 = second\n",
        "  def add(self):\n",
        "    result = self.num1 + self.num2\n",
        "    return result\n"
      ],
      "metadata": {
        "id": "4fDLLDtTmDG9"
      },
      "execution_count": 53,
      "outputs": []
    },
    {
      "cell_type": "code",
      "source": [
        "a = Calcul(5,7) #다음의 class의 parameter의 개수는 2개이다 "
      ],
      "metadata": {
        "id": "TYT0wXI-l8T3"
      },
      "execution_count": 54,
      "outputs": []
    },
    {
      "cell_type": "code",
      "source": [
        "type(a) "
      ],
      "metadata": {
        "colab": {
          "base_uri": "https://localhost:8080/"
        },
        "id": "aB9FwXDimjgn",
        "outputId": "50715baf-5aee-4352-9fd6-286e89c56350"
      },
      "execution_count": 55,
      "outputs": [
        {
          "output_type": "execute_result",
          "data": {
            "text/plain": [
              "__main__.Calcul"
            ]
          },
          "metadata": {},
          "execution_count": 55
        }
      ]
    },
    {
      "cell_type": "code",
      "source": [
        "a.add() #class 안의 매서드인 add를 실행"
      ],
      "metadata": {
        "colab": {
          "base_uri": "https://localhost:8080/"
        },
        "id": "gta4HhddmlPG",
        "outputId": "f340fa97-cb5a-4824-822c-fbaf0d35d3a6"
      },
      "execution_count": 56,
      "outputs": [
        {
          "output_type": "execute_result",
          "data": {
            "text/plain": [
              "12"
            ]
          },
          "metadata": {},
          "execution_count": 56
        }
      ]
    }
  ]
}